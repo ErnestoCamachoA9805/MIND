{
 "cells": [
  {
   "cell_type": "markdown",
   "id": "d69cb483",
   "metadata": {},
   "source": [
    "# Parcial Practico 1"
   ]
  },
  {
   "cell_type": "markdown",
   "id": "64640592",
   "metadata": {},
   "source": [
    "## Ernesto Camacho Arroyave - MIND 2022-1"
   ]
  },
  {
   "cell_type": "code",
   "execution_count": 1,
   "id": "4dcc4be2",
   "metadata": {},
   "outputs": [],
   "source": [
    "import pandas as pd"
   ]
  },
  {
   "cell_type": "markdown",
   "id": "a9b7c725",
   "metadata": {},
   "source": [
    "**1) Describa de forma clara y precisa el dataset que le fue asignado. Complementando con la dimensionalidad, la cantidad de atributos, la descripción de clase, cómo utilizarlo\n",
    "en un problema de clasificación, etc.**"
   ]
  },
  {
   "cell_type": "markdown",
   "id": "d4a19bc9",
   "metadata": {},
   "source": [
    "- El dataset que me correspondio es llamado **Car Evaluation**, se encuentra en: https://archive.ics.uci.edu/ml/datasets/car+evaluation .\n",
    "- Segun la informacion que provee la misma pagina podemos ver: \n",
    "    - Que es un dataset multivariado, es decir que tiene distintos tipos de datos \n",
    "    - Que tiene un numero de 1728 entradas \n",
    "    - Que tiene un total de 6 atributos y una clase:\n",
    "        - buying el precio de compra\n",
    "        - maint el costo del mantenimiento\n",
    "        - doors numero de puertas que tiene\n",
    "        - persons capacidad de personas que tiene el vehiculo \n",
    "        - lug_boot la capacidad que tiene el bául \n",
    "        - safety que tan seguro es el vehiculo\n",
    "        - class que tan aceptable es el vehiculo teniendo en cuenta las caracteristicas\n",
    "    - Que segun la pagina no tiene valores que faltan, es decir es una dataset completo\n",
    "- Dado que tiene una clase la idea seria crear un modelo que teniendo en cuenta las caracteristicas para determinar si el vehiculo vale la pena de comprar, rentar, o usar."
   ]
  },
  {
   "cell_type": "code",
   "execution_count": 9,
   "id": "d07d68bb",
   "metadata": {},
   "outputs": [
    {
     "data": {
      "text/html": [
       "<div>\n",
       "<style scoped>\n",
       "    .dataframe tbody tr th:only-of-type {\n",
       "        vertical-align: middle;\n",
       "    }\n",
       "\n",
       "    .dataframe tbody tr th {\n",
       "        vertical-align: top;\n",
       "    }\n",
       "\n",
       "    .dataframe thead th {\n",
       "        text-align: right;\n",
       "    }\n",
       "</style>\n",
       "<table border=\"1\" class=\"dataframe\">\n",
       "  <thead>\n",
       "    <tr style=\"text-align: right;\">\n",
       "      <th></th>\n",
       "      <th>buying</th>\n",
       "      <th>maint</th>\n",
       "      <th>doors</th>\n",
       "      <th>persons</th>\n",
       "      <th>lug_boot</th>\n",
       "      <th>safety</th>\n",
       "      <th>class</th>\n",
       "    </tr>\n",
       "  </thead>\n",
       "  <tbody>\n",
       "    <tr>\n",
       "      <th>0</th>\n",
       "      <td>vhigh</td>\n",
       "      <td>vhigh</td>\n",
       "      <td>2</td>\n",
       "      <td>2</td>\n",
       "      <td>small</td>\n",
       "      <td>low</td>\n",
       "      <td>unacc</td>\n",
       "    </tr>\n",
       "    <tr>\n",
       "      <th>1</th>\n",
       "      <td>vhigh</td>\n",
       "      <td>vhigh</td>\n",
       "      <td>2</td>\n",
       "      <td>2</td>\n",
       "      <td>small</td>\n",
       "      <td>med</td>\n",
       "      <td>unacc</td>\n",
       "    </tr>\n",
       "    <tr>\n",
       "      <th>2</th>\n",
       "      <td>vhigh</td>\n",
       "      <td>vhigh</td>\n",
       "      <td>2</td>\n",
       "      <td>2</td>\n",
       "      <td>small</td>\n",
       "      <td>high</td>\n",
       "      <td>unacc</td>\n",
       "    </tr>\n",
       "    <tr>\n",
       "      <th>3</th>\n",
       "      <td>vhigh</td>\n",
       "      <td>vhigh</td>\n",
       "      <td>2</td>\n",
       "      <td>2</td>\n",
       "      <td>med</td>\n",
       "      <td>low</td>\n",
       "      <td>unacc</td>\n",
       "    </tr>\n",
       "    <tr>\n",
       "      <th>4</th>\n",
       "      <td>vhigh</td>\n",
       "      <td>vhigh</td>\n",
       "      <td>2</td>\n",
       "      <td>2</td>\n",
       "      <td>med</td>\n",
       "      <td>med</td>\n",
       "      <td>unacc</td>\n",
       "    </tr>\n",
       "  </tbody>\n",
       "</table>\n",
       "</div>"
      ],
      "text/plain": [
       "  buying  maint doors persons lug_boot safety  class\n",
       "0  vhigh  vhigh     2       2    small    low  unacc\n",
       "1  vhigh  vhigh     2       2    small    med  unacc\n",
       "2  vhigh  vhigh     2       2    small   high  unacc\n",
       "3  vhigh  vhigh     2       2      med    low  unacc\n",
       "4  vhigh  vhigh     2       2      med    med  unacc"
      ]
     },
     "execution_count": 9,
     "metadata": {},
     "output_type": "execute_result"
    }
   ],
   "source": [
    "carDt= pd.read_csv('car.csv')\n",
    "carDt.head()"
   ]
  },
  {
   "cell_type": "code",
   "execution_count": 10,
   "id": "9fb9bd1f",
   "metadata": {},
   "outputs": [
    {
     "name": "stdout",
     "output_type": "stream",
     "text": [
      "12096\n",
      "(1728, 7)\n",
      "2\n"
     ]
    }
   ],
   "source": [
    "print(carDt.size)\n",
    "print(carDt.shape)\n",
    "print(carDt.ndim)"
   ]
  },
  {
   "cell_type": "markdown",
   "id": "46662d37",
   "metadata": {},
   "source": [
    "**2) Comenzando con el preprocesamiento, usted debe decidir si necesario hacer normalización, discretización, selección de atributos, etc. La decisión de hacerlo o no, debe ser justificada.**"
   ]
  },
  {
   "cell_type": "markdown",
   "id": "a0a87684",
   "metadata": {},
   "source": [
    "- Teniendo en cuenta los atributos, y que los valores que pueden tomar son relativamente pequeños, creo que discretizar los valores de los atributos cualitativos y volverlos cuantitavivos simplificara el analisis y perimitira crear un modelo que sea mas facil de adaptar."
   ]
  },
  {
   "cell_type": "markdown",
   "id": "f8e94deb",
   "metadata": {},
   "source": [
    "- La discretización de los artributos dependera de los valores de los atributos, pero para cada uno se va a hacer una explicación:\n",
    "    - buying: Este atributo puede tener valores **{vhigh, high, med, low}**, estos valores van a ser mapeados de la siguiente manera **{vhigh = 1, high = 2, med = 3, low =4}**.\n",
    "    - maint: Este atributo puede tener valores **{vhigh, high, med, low}**, estos valores van a ser mapeados de la siguiente manera **{vhigh = 1, high = 2, med = 3, low =4}**.\n",
    "    - doors: Es un atributo que por lo general es quantitativo y discreto, pero puede tomar un valor ***5-more***, para este caso lo vamos a pasar a solo numerico y que tome un valor de **5**\n",
    "    - persons: Similar a doors, pero para este caso el valor es ***more***, en este caso lo pasaremos a 5 \n",
    "    - lug_boot: Este atributo puede tener valores **{small, med, big}**, estos valores van a ser mapeados de la siguiente manera **{small = 1, med = 2, big = 3}**\n",
    "    - safety: Este atributo puede tener valores **{low, med, high}**, estos valores van a ser mapeados de la siguiente manera **{low = 1, med = 2, high = 3}**\n",
    "    - class: La clase puede tomar valores **{unacc, acc, good, vgood}**, estos valores van a ser mapeados de la siguiente manera **{unacc = 1, acc = 2, good = 3, vgood =4}**."
   ]
  },
  {
   "cell_type": "code",
   "execution_count": null,
   "id": "45f22f1a",
   "metadata": {},
   "outputs": [],
   "source": []
  }
 ],
 "metadata": {
  "kernelspec": {
   "display_name": "Python 3 (ipykernel)",
   "language": "python",
   "name": "python3"
  },
  "language_info": {
   "codemirror_mode": {
    "name": "ipython",
    "version": 3
   },
   "file_extension": ".py",
   "mimetype": "text/x-python",
   "name": "python",
   "nbconvert_exporter": "python",
   "pygments_lexer": "ipython3",
   "version": "3.9.7"
  }
 },
 "nbformat": 4,
 "nbformat_minor": 5
}
