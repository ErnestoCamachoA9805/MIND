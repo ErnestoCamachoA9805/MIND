{
 "cells": [
  {
   "cell_type": "markdown",
   "id": "d69cb483",
   "metadata": {},
   "source": [
    "# Parcial Practico 1"
   ]
  },
  {
   "cell_type": "markdown",
   "id": "64640592",
   "metadata": {},
   "source": [
    "## Ernesto Camacho Arroyave - MIND 2022-1"
   ]
  },
  {
   "cell_type": "code",
   "execution_count": 419,
   "id": "4dcc4be2",
   "metadata": {},
   "outputs": [],
   "source": [
    "import pandas as pd\n",
    "import numpy as np\n",
    "import seaborn as sns\n",
    "import matplotlib.pyplot as plt\n",
    "from sklearn.impute import KNNImputer\n",
    "from sklearn.metrics import mean_squared_error\n",
    "from math import ceil\n",
    "from random import randint"
   ]
  },
  {
   "cell_type": "markdown",
   "id": "a9b7c725",
   "metadata": {},
   "source": [
    "**1) Describa de forma clara y precisa el dataset que le fue asignado. Complementando con la dimensionalidad, la cantidad de atributos, la descripción de clase, cómo utilizarlo\n",
    "en un problema de clasificación, etc.**"
   ]
  },
  {
   "cell_type": "markdown",
   "id": "d4a19bc9",
   "metadata": {},
   "source": [
    "- El dataset que me correspondio es llamado **Car Evaluation**, se encuentra en: https://archive.ics.uci.edu/ml/datasets/car+evaluation .\n",
    "- Segun la informacion que provee la misma pagina podemos ver: \n",
    "    - Que es un dataset multivariado, es decir que tiene distintos tipos de datos \n",
    "    - Que tiene un numero de 1728 entradas \n",
    "    - Que tiene un total de 6 atributos y una clase:\n",
    "        - buying el precio de compra\n",
    "        - maint el costo del mantenimiento\n",
    "        - doors numero de puertas que tiene\n",
    "        - persons capacidad de personas que tiene el vehiculo \n",
    "        - lug_boot la capacidad que tiene el bául \n",
    "        - safety que tan seguro es el vehiculo\n",
    "        - class que tan aceptable es el vehiculo teniendo en cuenta las caracteristicas\n",
    "    - Que segun la pagina no tiene valores que faltan, es decir es una dataset completo\n",
    "- Dado que tiene una clase la idea seria crear un modelo que teniendo en cuenta las caracteristicas para determinar si el vehiculo vale la pena de comprar, rentar, o usar."
   ]
  },
  {
   "cell_type": "code",
   "execution_count": 420,
   "id": "d07d68bb",
   "metadata": {},
   "outputs": [
    {
     "data": {
      "text/html": [
       "<div>\n",
       "<style scoped>\n",
       "    .dataframe tbody tr th:only-of-type {\n",
       "        vertical-align: middle;\n",
       "    }\n",
       "\n",
       "    .dataframe tbody tr th {\n",
       "        vertical-align: top;\n",
       "    }\n",
       "\n",
       "    .dataframe thead th {\n",
       "        text-align: right;\n",
       "    }\n",
       "</style>\n",
       "<table border=\"1\" class=\"dataframe\">\n",
       "  <thead>\n",
       "    <tr style=\"text-align: right;\">\n",
       "      <th></th>\n",
       "      <th>buying</th>\n",
       "      <th>maint</th>\n",
       "      <th>doors</th>\n",
       "      <th>persons</th>\n",
       "      <th>lug_boot</th>\n",
       "      <th>safety</th>\n",
       "      <th>class</th>\n",
       "    </tr>\n",
       "  </thead>\n",
       "  <tbody>\n",
       "    <tr>\n",
       "      <th>0</th>\n",
       "      <td>vhigh</td>\n",
       "      <td>vhigh</td>\n",
       "      <td>2</td>\n",
       "      <td>2</td>\n",
       "      <td>small</td>\n",
       "      <td>low</td>\n",
       "      <td>unacc</td>\n",
       "    </tr>\n",
       "    <tr>\n",
       "      <th>1</th>\n",
       "      <td>vhigh</td>\n",
       "      <td>vhigh</td>\n",
       "      <td>2</td>\n",
       "      <td>2</td>\n",
       "      <td>small</td>\n",
       "      <td>med</td>\n",
       "      <td>unacc</td>\n",
       "    </tr>\n",
       "    <tr>\n",
       "      <th>2</th>\n",
       "      <td>vhigh</td>\n",
       "      <td>vhigh</td>\n",
       "      <td>2</td>\n",
       "      <td>2</td>\n",
       "      <td>small</td>\n",
       "      <td>high</td>\n",
       "      <td>unacc</td>\n",
       "    </tr>\n",
       "    <tr>\n",
       "      <th>3</th>\n",
       "      <td>vhigh</td>\n",
       "      <td>vhigh</td>\n",
       "      <td>2</td>\n",
       "      <td>2</td>\n",
       "      <td>med</td>\n",
       "      <td>low</td>\n",
       "      <td>unacc</td>\n",
       "    </tr>\n",
       "    <tr>\n",
       "      <th>4</th>\n",
       "      <td>vhigh</td>\n",
       "      <td>vhigh</td>\n",
       "      <td>2</td>\n",
       "      <td>2</td>\n",
       "      <td>med</td>\n",
       "      <td>med</td>\n",
       "      <td>unacc</td>\n",
       "    </tr>\n",
       "  </tbody>\n",
       "</table>\n",
       "</div>"
      ],
      "text/plain": [
       "  buying  maint doors persons lug_boot safety  class\n",
       "0  vhigh  vhigh     2       2    small    low  unacc\n",
       "1  vhigh  vhigh     2       2    small    med  unacc\n",
       "2  vhigh  vhigh     2       2    small   high  unacc\n",
       "3  vhigh  vhigh     2       2      med    low  unacc\n",
       "4  vhigh  vhigh     2       2      med    med  unacc"
      ]
     },
     "execution_count": 420,
     "metadata": {},
     "output_type": "execute_result"
    }
   ],
   "source": [
    "carDt= pd.read_csv('car.csv')\n",
    "carDt.head()"
   ]
  },
  {
   "cell_type": "code",
   "execution_count": 421,
   "id": "9fb9bd1f",
   "metadata": {},
   "outputs": [
    {
     "name": "stdout",
     "output_type": "stream",
     "text": [
      "12096\n",
      "(1728, 7)\n",
      "2\n"
     ]
    }
   ],
   "source": [
    "print(carDt.size)\n",
    "print(carDt.shape)\n",
    "print(carDt.ndim)"
   ]
  },
  {
   "cell_type": "markdown",
   "id": "46662d37",
   "metadata": {},
   "source": [
    "**2) Comenzando con el preprocesamiento, usted debe decidir si necesario hacer normalización, discretización, selección de atributos, etc. La decisión de hacerlo o no, debe ser justificada.**"
   ]
  },
  {
   "cell_type": "markdown",
   "id": "a0a87684",
   "metadata": {},
   "source": [
    "- Teniendo en cuenta los atributos, y que los valores que pueden tomar son relativamente pequeños, creo que discretizar los valores de los atributos cualitativos y volverlos cuantitavivos simplificara el analisis y perimitira crear un modelo que sea mas facil de adaptar."
   ]
  },
  {
   "cell_type": "markdown",
   "id": "f8e94deb",
   "metadata": {},
   "source": [
    "- La discretización de los artributos dependera de los valores de los atributos, pero para cada uno se va a hacer una explicación:\n",
    "    - **buying:** Este atributo puede tener valores **{vhigh, high, med, low}**, estos valores van a ser mapeados de la siguiente manera **{vhigh = 1, high = 2, med = 3, low = 4}**.\n",
    "    - **maint:** Este atributo puede tener valores **{vhigh, high, med, low}**, estos valores van a ser mapeados de la siguiente manera **{vhigh = 1, high = 2, med = 3, low = 4}**.\n",
    "    - **doors:** Es un atributo que por lo general es quantitativo y discreto, pero puede tomar un valor ***5-more***, para este caso lo vamos a pasar a solo numerico y que tome un valor de **5**\n",
    "    - **persons:** Similar a doors, pero para este caso el valor es ***more***, en este caso lo pasaremos a **5** \n",
    "    - **lug_boot:** Este atributo puede tener valores **{small, med, big}**, estos valores van a ser mapeados de la siguiente manera **{small = 1, med = 2, big = 3}**\n",
    "    - **safety:** Este atributo puede tener valores **{low, med, high}**, estos valores van a ser mapeados de la siguiente manera **{low = 1, med = 2, high = 3}**\n",
    "    - **class:** La clase puede tomar valores **{unacc, acc, good, vgood}**, estos valores van a ser mapeados de la siguiente manera **{unacc = 1, acc = 2, good = 3, vgood =4 }**."
   ]
  },
  {
   "cell_type": "markdown",
   "id": "3b2aca70",
   "metadata": {},
   "source": [
    "- Copiamos el data set para no dañarlo, y empezamos a hacer el mapeo de los datos."
   ]
  },
  {
   "cell_type": "code",
   "execution_count": 422,
   "id": "45f22f1a",
   "metadata": {},
   "outputs": [],
   "source": [
    "carDtMap= carDt.copy()"
   ]
  },
  {
   "cell_type": "code",
   "execution_count": 423,
   "id": "790dfc60",
   "metadata": {},
   "outputs": [],
   "source": [
    "def doors_persons_mapper(x):\n",
    "    if (x == '5more') or (x== 'more'):\n",
    "        y= 5\n",
    "    else:\n",
    "        y= int(x)\n",
    "    return y"
   ]
  },
  {
   "cell_type": "code",
   "execution_count": 424,
   "id": "fac5404d",
   "metadata": {},
   "outputs": [],
   "source": [
    "# Mapeo de buyingMap\n",
    "carDtMap['buyingMap'] = carDtMap['buying'].map({'vhigh': 1, 'high': 2, 'med': 3, 'low': 4})\n",
    "\n",
    "# Mapeo de maintMap\n",
    "carDtMap['maintMap'] = carDtMap['maint'].map({'vhigh': 1, 'high': 2, 'med': 3, 'low': 4})\n",
    "\n",
    "# Mapeo de doors\n",
    "carDtMap['doorsMap'] = carDt['doors'].apply(doors_persons_mapper)\n",
    "\n",
    "# Mapeo de persons\n",
    "carDtMap['personsMap'] = carDt['persons'].apply(doors_persons_mapper)\n",
    "\n",
    "# Mapeo de lug_boot\n",
    "carDtMap['lug_bootMap'] = carDtMap['lug_boot'].map({'small': 1, 'med': 2, 'big': 3})\n",
    "\n",
    "# Mapeo de safety\n",
    "carDtMap['safetyMap'] = carDtMap['safety'].map({'low': 1, 'med': 2, 'high': 3})\n"
   ]
  },
  {
   "cell_type": "code",
   "execution_count": 425,
   "id": "f2600c97",
   "metadata": {},
   "outputs": [
    {
     "data": {
      "text/html": [
       "<div>\n",
       "<style scoped>\n",
       "    .dataframe tbody tr th:only-of-type {\n",
       "        vertical-align: middle;\n",
       "    }\n",
       "\n",
       "    .dataframe tbody tr th {\n",
       "        vertical-align: top;\n",
       "    }\n",
       "\n",
       "    .dataframe thead th {\n",
       "        text-align: right;\n",
       "    }\n",
       "</style>\n",
       "<table border=\"1\" class=\"dataframe\">\n",
       "  <thead>\n",
       "    <tr style=\"text-align: right;\">\n",
       "      <th></th>\n",
       "      <th>buying</th>\n",
       "      <th>maint</th>\n",
       "      <th>doors</th>\n",
       "      <th>persons</th>\n",
       "      <th>lug_boot</th>\n",
       "      <th>safety</th>\n",
       "      <th>class</th>\n",
       "      <th>buyingMap</th>\n",
       "      <th>maintMap</th>\n",
       "      <th>doorsMap</th>\n",
       "      <th>personsMap</th>\n",
       "      <th>lug_bootMap</th>\n",
       "      <th>safetyMap</th>\n",
       "    </tr>\n",
       "  </thead>\n",
       "  <tbody>\n",
       "    <tr>\n",
       "      <th>1723</th>\n",
       "      <td>low</td>\n",
       "      <td>low</td>\n",
       "      <td>5more</td>\n",
       "      <td>more</td>\n",
       "      <td>med</td>\n",
       "      <td>med</td>\n",
       "      <td>good</td>\n",
       "      <td>4</td>\n",
       "      <td>4</td>\n",
       "      <td>5</td>\n",
       "      <td>5</td>\n",
       "      <td>2</td>\n",
       "      <td>2</td>\n",
       "    </tr>\n",
       "    <tr>\n",
       "      <th>1724</th>\n",
       "      <td>low</td>\n",
       "      <td>low</td>\n",
       "      <td>5more</td>\n",
       "      <td>more</td>\n",
       "      <td>med</td>\n",
       "      <td>high</td>\n",
       "      <td>vgood</td>\n",
       "      <td>4</td>\n",
       "      <td>4</td>\n",
       "      <td>5</td>\n",
       "      <td>5</td>\n",
       "      <td>2</td>\n",
       "      <td>3</td>\n",
       "    </tr>\n",
       "    <tr>\n",
       "      <th>1725</th>\n",
       "      <td>low</td>\n",
       "      <td>low</td>\n",
       "      <td>5more</td>\n",
       "      <td>more</td>\n",
       "      <td>big</td>\n",
       "      <td>low</td>\n",
       "      <td>unacc</td>\n",
       "      <td>4</td>\n",
       "      <td>4</td>\n",
       "      <td>5</td>\n",
       "      <td>5</td>\n",
       "      <td>3</td>\n",
       "      <td>1</td>\n",
       "    </tr>\n",
       "    <tr>\n",
       "      <th>1726</th>\n",
       "      <td>low</td>\n",
       "      <td>low</td>\n",
       "      <td>5more</td>\n",
       "      <td>more</td>\n",
       "      <td>big</td>\n",
       "      <td>med</td>\n",
       "      <td>good</td>\n",
       "      <td>4</td>\n",
       "      <td>4</td>\n",
       "      <td>5</td>\n",
       "      <td>5</td>\n",
       "      <td>3</td>\n",
       "      <td>2</td>\n",
       "    </tr>\n",
       "    <tr>\n",
       "      <th>1727</th>\n",
       "      <td>low</td>\n",
       "      <td>low</td>\n",
       "      <td>5more</td>\n",
       "      <td>more</td>\n",
       "      <td>big</td>\n",
       "      <td>high</td>\n",
       "      <td>vgood</td>\n",
       "      <td>4</td>\n",
       "      <td>4</td>\n",
       "      <td>5</td>\n",
       "      <td>5</td>\n",
       "      <td>3</td>\n",
       "      <td>3</td>\n",
       "    </tr>\n",
       "  </tbody>\n",
       "</table>\n",
       "</div>"
      ],
      "text/plain": [
       "     buying maint  doors persons lug_boot safety  class  buyingMap  maintMap  \\\n",
       "1723    low   low  5more    more      med    med   good          4         4   \n",
       "1724    low   low  5more    more      med   high  vgood          4         4   \n",
       "1725    low   low  5more    more      big    low  unacc          4         4   \n",
       "1726    low   low  5more    more      big    med   good          4         4   \n",
       "1727    low   low  5more    more      big   high  vgood          4         4   \n",
       "\n",
       "      doorsMap  personsMap  lug_bootMap  safetyMap  \n",
       "1723         5           5            2          2  \n",
       "1724         5           5            2          3  \n",
       "1725         5           5            3          1  \n",
       "1726         5           5            3          2  \n",
       "1727         5           5            3          3  "
      ]
     },
     "execution_count": 425,
     "metadata": {},
     "output_type": "execute_result"
    }
   ],
   "source": [
    "carDtMap.tail()"
   ]
  },
  {
   "cell_type": "code",
   "execution_count": 426,
   "id": "ad008805",
   "metadata": {},
   "outputs": [
    {
     "data": {
      "text/html": [
       "<div>\n",
       "<style scoped>\n",
       "    .dataframe tbody tr th:only-of-type {\n",
       "        vertical-align: middle;\n",
       "    }\n",
       "\n",
       "    .dataframe tbody tr th {\n",
       "        vertical-align: top;\n",
       "    }\n",
       "\n",
       "    .dataframe thead th {\n",
       "        text-align: right;\n",
       "    }\n",
       "</style>\n",
       "<table border=\"1\" class=\"dataframe\">\n",
       "  <thead>\n",
       "    <tr style=\"text-align: right;\">\n",
       "      <th></th>\n",
       "      <th>class</th>\n",
       "      <th>buyingMap</th>\n",
       "      <th>maintMap</th>\n",
       "      <th>doorsMap</th>\n",
       "      <th>personsMap</th>\n",
       "      <th>lug_bootMap</th>\n",
       "      <th>safetyMap</th>\n",
       "    </tr>\n",
       "  </thead>\n",
       "  <tbody>\n",
       "    <tr>\n",
       "      <th>0</th>\n",
       "      <td>unacc</td>\n",
       "      <td>1</td>\n",
       "      <td>1</td>\n",
       "      <td>2</td>\n",
       "      <td>2</td>\n",
       "      <td>1</td>\n",
       "      <td>1</td>\n",
       "    </tr>\n",
       "    <tr>\n",
       "      <th>1</th>\n",
       "      <td>unacc</td>\n",
       "      <td>1</td>\n",
       "      <td>1</td>\n",
       "      <td>2</td>\n",
       "      <td>2</td>\n",
       "      <td>1</td>\n",
       "      <td>2</td>\n",
       "    </tr>\n",
       "    <tr>\n",
       "      <th>2</th>\n",
       "      <td>unacc</td>\n",
       "      <td>1</td>\n",
       "      <td>1</td>\n",
       "      <td>2</td>\n",
       "      <td>2</td>\n",
       "      <td>1</td>\n",
       "      <td>3</td>\n",
       "    </tr>\n",
       "    <tr>\n",
       "      <th>3</th>\n",
       "      <td>unacc</td>\n",
       "      <td>1</td>\n",
       "      <td>1</td>\n",
       "      <td>2</td>\n",
       "      <td>2</td>\n",
       "      <td>2</td>\n",
       "      <td>1</td>\n",
       "    </tr>\n",
       "    <tr>\n",
       "      <th>4</th>\n",
       "      <td>unacc</td>\n",
       "      <td>1</td>\n",
       "      <td>1</td>\n",
       "      <td>2</td>\n",
       "      <td>2</td>\n",
       "      <td>2</td>\n",
       "      <td>2</td>\n",
       "    </tr>\n",
       "  </tbody>\n",
       "</table>\n",
       "</div>"
      ],
      "text/plain": [
       "   class  buyingMap  maintMap  doorsMap  personsMap  lug_bootMap  safetyMap\n",
       "0  unacc          1         1         2           2            1          1\n",
       "1  unacc          1         1         2           2            1          2\n",
       "2  unacc          1         1         2           2            1          3\n",
       "3  unacc          1         1         2           2            2          1\n",
       "4  unacc          1         1         2           2            2          2"
      ]
     },
     "execution_count": 426,
     "metadata": {},
     "output_type": "execute_result"
    }
   ],
   "source": [
    "to_drop=['buying','maint','doors','persons','lug_boot','safety'] \n",
    "carDtMap.drop(to_drop, inplace= True, axis= 1)\n",
    "carDtMap.head()"
   ]
  },
  {
   "cell_type": "markdown",
   "id": "a8d03c1c",
   "metadata": {},
   "source": [
    "**3) Insertar de manera aleatoria en su dataset preprocesado un 10% de missing values excluyendo la clase.\n",
    "El porcentaje es relacionado con la dimesionalidad, e.g., dim(DS) = (20, 5), el 10% es tener NA en 10\n",
    "celdas aleatorias.**"
   ]
  },
  {
   "cell_type": "code",
   "execution_count": 427,
   "id": "6d6a53f0",
   "metadata": {},
   "outputs": [
    {
     "name": "stdout",
     "output_type": "stream",
     "text": [
      "12096\n",
      "(1728, 7)\n",
      "2\n"
     ]
    }
   ],
   "source": [
    "print(carDtMap.size)\n",
    "print(carDtMap.shape)\n",
    "print(carDtMap.ndim)"
   ]
  },
  {
   "cell_type": "markdown",
   "id": "ab7f81b8",
   "metadata": {},
   "source": [
    "- Podemos ver que hay un total de 12096 celdas si necesitamos el 10% de eso solo es calcularlo."
   ]
  },
  {
   "cell_type": "code",
   "execution_count": 428,
   "id": "a9200a2e",
   "metadata": {},
   "outputs": [
    {
     "name": "stdout",
     "output_type": "stream",
     "text": [
      "1209.6000000000001\n"
     ]
    }
   ],
   "source": [
    "print(12096 * 0.1)"
   ]
  },
  {
   "cell_type": "markdown",
   "id": "4277ef83",
   "metadata": {},
   "source": [
    "- Para poder tener un numeo entero para manejar, usaremos la funcion techo y usaremos el valor que ese no provee para determinar el numero de celdas que deben tener un valor faltante"
   ]
  },
  {
   "cell_type": "code",
   "execution_count": 429,
   "id": "57368a75",
   "metadata": {},
   "outputs": [
    {
     "name": "stdout",
     "output_type": "stream",
     "text": [
      "1210\n"
     ]
    }
   ],
   "source": [
    "print(ceil(12096 * 0.1))"
   ]
  },
  {
   "cell_type": "markdown",
   "id": "1903c048",
   "metadata": {},
   "source": [
    "- Con un valor de 1210 tenemos el numero de celdas que deben quedar faltantes."
   ]
  },
  {
   "cell_type": "code",
   "execution_count": 430,
   "id": "a36c0a6e",
   "metadata": {},
   "outputs": [],
   "source": [
    "def randomNone(number, dataset):\n",
    "    row,cols= dataset.shape\n",
    "    columnName= dataset.columns\n",
    "    num= 0\n",
    "    while num < number:\n",
    "        randRow= randint(0,row-1)\n",
    "        randCol= columnName[randint(1,cols-1)]\n",
    "        dataset.loc[randRow,randCol]= None\n",
    "        num += 1\n",
    "    return dataset"
   ]
  },
  {
   "cell_type": "markdown",
   "id": "d3d16a98",
   "metadata": {},
   "source": [
    "- Con la funcion para poner valores aleatorios en nulo, vamos a confirmar que nuestro data set antes de ser expuesto a la funcion es correcto y no le falta ningun valor."
   ]
  },
  {
   "cell_type": "code",
   "execution_count": 431,
   "id": "116a1782",
   "metadata": {},
   "outputs": [
    {
     "data": {
      "text/plain": [
       "<AxesSubplot:>"
      ]
     },
     "execution_count": 431,
     "metadata": {},
     "output_type": "execute_result"
    },
    {
     "data": {
      "image/png": "[encoded data removed]",
      "text/plain": [
       "<Figure size 432x288 with 1 Axes>"
      ]
     },
     "metadata": {
      "needs_background": "light"
     },
     "output_type": "display_data"
    }
   ],
   "source": [
    "sns.heatmap(carDtMap.isnull(), cbar=False)"
   ]
  },
  {
   "cell_type": "markdown",
   "id": "7b7db5af",
   "metadata": {},
   "source": [
    "- Confirmando que no hay nada faltante, usaremos la funcion"
   ]
  },
  {
   "cell_type": "code",
   "execution_count": 432,
   "id": "d8a34434",
   "metadata": {},
   "outputs": [],
   "source": [
    "carDtMapRandom= carDtMap.copy()"
   ]
  },
  {
   "cell_type": "code",
   "execution_count": 433,
   "id": "3e92e84d",
   "metadata": {},
   "outputs": [],
   "source": [
    "carDtMapRandom= randomNone(1210,carDtMapRandom)"
   ]
  },
  {
   "cell_type": "code",
   "execution_count": 434,
   "id": "3c991284",
   "metadata": {},
   "outputs": [
    {
     "data": {
      "text/plain": [
       "<AxesSubplot:>"
      ]
     },
     "execution_count": 434,
     "metadata": {},
     "output_type": "execute_result"
    },
    {
     "data": {
      "image/png": "[encoded data removed]",
      "text/plain": [
       "<Figure size 432x288 with 1 Axes>"
      ]
     },
     "metadata": {
      "needs_background": "light"
     },
     "output_type": "display_data"
    }
   ],
   "source": [
    "sns.heatmap(carDtMapRandom.isnull(), cbar=False)"
   ]
  },
  {
   "cell_type": "markdown",
   "id": "66d2c0f2",
   "metadata": {},
   "source": [
    "- Como podemos observar, los valores efectivamente fueron alterados, insertando valores nulos en el dataset"
   ]
  },
  {
   "cell_type": "markdown",
   "id": "60e953be",
   "metadata": {},
   "source": [
    "**4) Hacer la imputación por alguna técnica basada en cálculo estadístico como media, mediana o moda.**"
   ]
  },
  {
   "cell_type": "markdown",
   "id": "485d5a6b",
   "metadata": {},
   "source": [
    "- Para este punto, el metodo de imputación va a ser la moda, mas que nada porque considero que utilizar la mediana nos quitaria mucha información, y usar la media nos podria resultar valores decimales, lo que implicaria que introduciriamos otro tipo de datos al dataset, lo que considero lo hace mas desordenado. "
   ]
  },
  {
   "cell_type": "markdown",
   "id": "bf49c833",
   "metadata": {},
   "source": [
    "- Empezamos la imputación de los datos "
   ]
  },
  {
   "cell_type": "code",
   "execution_count": 435,
   "id": "e4900199",
   "metadata": {},
   "outputs": [],
   "source": [
    "carDtMapRandomStat= carDtMapRandom.copy()"
   ]
  },
  {
   "cell_type": "code",
   "execution_count": 436,
   "id": "b8117db7",
   "metadata": {},
   "outputs": [
    {
     "name": "stdout",
     "output_type": "stream",
     "text": [
      "1.0    392\n",
      "2.0    389\n",
      "4.0    389\n",
      "3.0    383\n",
      "Name: buyingMap, dtype: int64\n",
      "### ### ###\n",
      "1.0    567\n",
      "2.0    389\n",
      "4.0    389\n",
      "3.0    383\n",
      "Name: buyingMap, dtype: int64\n"
     ]
    }
   ],
   "source": [
    "values= carDtMapRandomStat ['buyingMap'].value_counts()\n",
    "print(values)\n",
    "values= values.index.to_list()\n",
    "carDtMapRandomStat['buyingMap']= carDtMapRandomStat['buyingMap'].replace(np.nan,values[0])\n",
    "print('### ### ###')\n",
    "values= carDtMapRandomStat ['buyingMap'].value_counts()\n",
    "print(values)"
   ]
  },
  {
   "cell_type": "code",
   "execution_count": 437,
   "id": "e814954e",
   "metadata": {},
   "outputs": [
    {
     "name": "stdout",
     "output_type": "stream",
     "text": [
      "2.0    390\n",
      "4.0    383\n",
      "1.0    379\n",
      "3.0    374\n",
      "Name: maintMap, dtype: int64\n",
      "### ### ###\n",
      "2.0    592\n",
      "4.0    383\n",
      "1.0    379\n",
      "3.0    374\n",
      "Name: maintMap, dtype: int64\n"
     ]
    }
   ],
   "source": [
    "values= carDtMapRandomStat ['maintMap'].value_counts()\n",
    "print(values)\n",
    "values= values.index.to_list()\n",
    "carDtMapRandomStat['maintMap']= carDtMapRandomStat['maintMap'].replace(np.nan,values[0])\n",
    "print('### ### ###')\n",
    "values= carDtMapRandomStat ['maintMap'].value_counts()\n",
    "print(values)"
   ]
  },
  {
   "cell_type": "code",
   "execution_count": 438,
   "id": "c37f1125",
   "metadata": {},
   "outputs": [
    {
     "name": "stdout",
     "output_type": "stream",
     "text": [
      "2.0    388\n",
      "4.0    388\n",
      "5.0    382\n",
      "3.0    377\n",
      "Name: doorsMap, dtype: int64\n",
      "### ### ###\n",
      "2.0    581\n",
      "4.0    388\n",
      "5.0    382\n",
      "3.0    377\n",
      "Name: doorsMap, dtype: int64\n"
     ]
    }
   ],
   "source": [
    "values= carDtMapRandomStat ['doorsMap'].value_counts()\n",
    "print(values)\n",
    "values= values.index.to_list()\n",
    "carDtMapRandomStat['doorsMap']= carDtMapRandomStat['doorsMap'].replace(np.nan,values[0])\n",
    "print('### ### ###')\n",
    "values= carDtMapRandomStat ['doorsMap'].value_counts()\n",
    "print(values)"
   ]
  },
  {
   "cell_type": "code",
   "execution_count": 439,
   "id": "b5f10174",
   "metadata": {},
   "outputs": [
    {
     "name": "stdout",
     "output_type": "stream",
     "text": [
      "5.0    523\n",
      "4.0    512\n",
      "2.0    507\n",
      "Name: personsMap, dtype: int64\n",
      "### ### ###\n",
      "5.0    709\n",
      "4.0    512\n",
      "2.0    507\n",
      "Name: personsMap, dtype: int64\n"
     ]
    }
   ],
   "source": [
    "values= carDtMapRandomStat ['personsMap'].value_counts()\n",
    "print(values)\n",
    "values= values.index.to_list()\n",
    "carDtMapRandomStat['personsMap']= carDtMapRandomStat['personsMap'].replace(np.nan,values[0])\n",
    "print('### ### ###')\n",
    "values= carDtMapRandomStat ['personsMap'].value_counts()\n",
    "print(values)"
   ]
  },
  {
   "cell_type": "code",
   "execution_count": 440,
   "id": "62ec07b3",
   "metadata": {},
   "outputs": [
    {
     "name": "stdout",
     "output_type": "stream",
     "text": [
      "1.0    522\n",
      "2.0    507\n",
      "3.0    505\n",
      "Name: lug_bootMap, dtype: int64\n",
      "### ### ###\n",
      "1.0    716\n",
      "2.0    507\n",
      "3.0    505\n",
      "Name: lug_bootMap, dtype: int64\n"
     ]
    }
   ],
   "source": [
    "values= carDtMapRandomStat ['lug_bootMap'].value_counts()\n",
    "print(values)\n",
    "values= values.index.to_list()\n",
    "carDtMapRandomStat['lug_bootMap']= carDtMapRandomStat['lug_bootMap'].replace(np.nan,values[0])\n",
    "print('### ### ###')\n",
    "values= carDtMapRandomStat ['lug_bootMap'].value_counts()\n",
    "print(values)"
   ]
  },
  {
   "cell_type": "code",
   "execution_count": 441,
   "id": "44c845e6",
   "metadata": {},
   "outputs": [
    {
     "name": "stdout",
     "output_type": "stream",
     "text": [
      "3.0    521\n",
      "2.0    516\n",
      "1.0    508\n",
      "Name: safetyMap, dtype: int64\n",
      "### ### ###\n",
      "3.0    704\n",
      "2.0    516\n",
      "1.0    508\n",
      "Name: safetyMap, dtype: int64\n"
     ]
    }
   ],
   "source": [
    "values= carDtMapRandomStat ['safetyMap'].value_counts()\n",
    "print(values)\n",
    "values= values.index.to_list()\n",
    "carDtMapRandomStat['safetyMap']= carDtMapRandomStat['safetyMap'].replace(np.nan,values[0])\n",
    "print('### ### ###')\n",
    "values= carDtMapRandomStat ['safetyMap'].value_counts()\n",
    "print(values)"
   ]
  },
  {
   "cell_type": "code",
   "execution_count": 442,
   "id": "555fb655",
   "metadata": {},
   "outputs": [
    {
     "data": {
      "text/plain": [
       "<AxesSubplot:>"
      ]
     },
     "execution_count": 442,
     "metadata": {},
     "output_type": "execute_result"
    },
    {
     "data": {
      "image/png": "[encoded data removed]",
      "text/plain": [
       "<Figure size 432x288 with 1 Axes>"
      ]
     },
     "metadata": {
      "needs_background": "light"
     },
     "output_type": "display_data"
    }
   ],
   "source": [
    "sns.heatmap(carDtMapRandomStat.isnull(), cbar=False)"
   ]
  },
  {
   "cell_type": "markdown",
   "id": "910bc041",
   "metadata": {},
   "source": [
    "- Podemos ver que los valores fueron imputados correctamente"
   ]
  },
  {
   "cell_type": "markdown",
   "id": "b2595353",
   "metadata": {},
   "source": [
    "**5) Hacer dos imputaciones por la técnica kNN, con k = 3 y k = 10.**"
   ]
  },
  {
   "cell_type": "code",
   "execution_count": 443,
   "id": "7bcc4bc5",
   "metadata": {},
   "outputs": [
    {
     "data": {
      "image/png": "[encoded data removed]",
      "text/plain": [
       "<Figure size 432x288 with 1 Axes>"
      ]
     },
     "metadata": {
      "needs_background": "light"
     },
     "output_type": "display_data"
    }
   ],
   "source": [
    "carDtMapRandomKnn3= carDtMapRandom.copy()\n",
    "sns.heatmap(carDtMapRandomKnn3.isnull(), cbar=False)\n",
    "cols= ['buyingMap','maintMap','doorsMap','personsMap','lug_bootMap','safetyMap'] "
   ]
  },
  {
   "cell_type": "code",
   "execution_count": 444,
   "id": "931a99f0",
   "metadata": {},
   "outputs": [],
   "source": [
    "knn3= KNNImputer(n_neighbors=3)\n",
    "knn3.fit(carDtMapRandomKnn3[cols])\n",
    "carDtMapRandomKnn3[cols]=knn3.transform(carDtMapRandomKnn3[cols])"
   ]
  },
  {
   "cell_type": "code",
   "execution_count": 445,
   "id": "5ce39328",
   "metadata": {},
   "outputs": [
    {
     "data": {
      "text/plain": [
       "<AxesSubplot:>"
      ]
     },
     "execution_count": 445,
     "metadata": {},
     "output_type": "execute_result"
    },
    {
     "data": {
      "image/png": "[encoded data removed]",
      "text/plain": [
       "<Figure size 432x288 with 1 Axes>"
      ]
     },
     "metadata": {
      "needs_background": "light"
     },
     "output_type": "display_data"
    }
   ],
   "source": [
    "sns.heatmap(carDtMapRandomKnn3.isnull(), cbar=False)"
   ]
  },
  {
   "cell_type": "code",
   "execution_count": 446,
   "id": "ab84adfb",
   "metadata": {},
   "outputs": [
    {
     "data": {
      "text/plain": [
       "<AxesSubplot:>"
      ]
     },
     "execution_count": 446,
     "metadata": {},
     "output_type": "execute_result"
    },
    {
     "data": {
      "image/png": "[encoded data removed]",
      "text/plain": [
       "<Figure size 432x288 with 1 Axes>"
      ]
     },
     "metadata": {
      "needs_background": "light"
     },
     "output_type": "display_data"
    }
   ],
   "source": [
    "carDtMapRandomKnn10= carDtMapRandom.copy()\n",
    "sns.heatmap(carDtMapRandomKnn10.isnull(), cbar=False)"
   ]
  },
  {
   "cell_type": "code",
   "execution_count": 447,
   "id": "a3e0278f",
   "metadata": {},
   "outputs": [],
   "source": [
    "knn10= KNNImputer(n_neighbors=10)\n",
    "knn10.fit(carDtMapRandomKnn10[cols])\n",
    "carDtMapRandomKnn10[cols]=knn10.transform(carDtMapRandomKnn10[cols])"
   ]
  },
  {
   "cell_type": "code",
   "execution_count": 448,
   "id": "10451d9e",
   "metadata": {},
   "outputs": [
    {
     "data": {
      "text/plain": [
       "<AxesSubplot:>"
      ]
     },
     "execution_count": 448,
     "metadata": {},
     "output_type": "execute_result"
    },
    {
     "data": {
      "image/png": "[encoded data removed]",
      "text/plain": [
       "<Figure size 432x288 with 1 Axes>"
      ]
     },
     "metadata": {
      "needs_background": "light"
     },
     "output_type": "display_data"
    }
   ],
   "source": [
    "sns.heatmap(carDtMapRandomKnn10.isnull(), cbar=False)"
   ]
  },
  {
   "cell_type": "markdown",
   "id": "2a137f27",
   "metadata": {},
   "source": [
    "**6) Hacer una función en que permita calcular el error MSE (Mean Square Error) para cada atributo.**"
   ]
  },
  {
   "cell_type": "markdown",
   "id": "f41e5b5e",
   "metadata": {},
   "source": [
    "- Dado que tenemos 3 imputaciones sobre el dataset, realizaremos los calculos para las 3 imputaciones, siguiendo el orden de creación.\n",
    "- Se encontro una funcion que ya hace el calculo solicitado en Sklearn.Metrics, en la pagina de la documentación: https://scikit-learn.org/stable/modules/generated/sklearn.metrics.mean_squared_error.html\n",
    "- Aproximaremos el valor de MSE a 2 cifras decimales, para comodidad de uso"
   ]
  },
  {
   "cell_type": "code",
   "execution_count": 449,
   "id": "869b5db9",
   "metadata": {},
   "outputs": [
    {
     "name": "stdout",
     "output_type": "stream",
     "text": [
      "El valor de MSE para la columna buyingMap es: 0.36\n",
      "El valor de MSE para la columna maintMap es: 0.18\n",
      "El valor de MSE para la columna doorsMap es: 0.39\n",
      "El valor de MSE para la columna personsMap es: 0.40\n",
      "El valor de MSE para la columna lug_bootMap es: 0.20\n",
      "El valor de MSE para la columna safetyMap es: 0.19\n"
     ]
    }
   ],
   "source": [
    "for col in cols:\n",
    "    mse= mean_squared_error(carDtMap[col],carDtMapRandomStat[col])\n",
    "    print(\"El valor de MSE para la columna \" + col + \" es: \" + \"%.2f\" % mse) "
   ]
  },
  {
   "cell_type": "markdown",
   "id": "b721eb9b",
   "metadata": {},
   "source": [
    "- Con el primer set de MSE calculado, podemos observar que hay diferentes porcentages, pero podemos ver un porcentage de error bastante alto en el atributo \"buyingMap\", esto podria ser una razón para descartar esta imputación"
   ]
  },
  {
   "cell_type": "code",
   "execution_count": 450,
   "id": "ad8ba973",
   "metadata": {},
   "outputs": [
    {
     "name": "stdout",
     "output_type": "stream",
     "text": [
      "El valor de MSE para la columna buyingMap es: 0.34\n",
      "El valor de MSE para la columna maintMap es: 0.29\n",
      "El valor de MSE para la columna doorsMap es: 0.20\n",
      "El valor de MSE para la columna personsMap es: 0.26\n",
      "El valor de MSE para la columna lug_bootMap es: 0.10\n",
      "El valor de MSE para la columna safetyMap es: 0.10\n"
     ]
    }
   ],
   "source": [
    "for col in cols:\n",
    "    mse= mean_squared_error(carDtMap[col],carDtMapRandomKnn3[col])\n",
    "    print(\"El valor de MSE para la columna \" + col + \" es: \" + \"%.2f\" % mse) "
   ]
  },
  {
   "cell_type": "markdown",
   "id": "8284263d",
   "metadata": {},
   "source": [
    "- El segundo set de MSE, podemos observar que de nuevo el valor de \"buyingMap\" es bastante alto, sin embargo hay una mejoria con respecto al anterior"
   ]
  },
  {
   "cell_type": "code",
   "execution_count": 451,
   "id": "27fe1681",
   "metadata": {},
   "outputs": [
    {
     "name": "stdout",
     "output_type": "stream",
     "text": [
      "El valor de MSE para la columna buyingMap es: 0.15\n",
      "El valor de MSE para la columna maintMap es: 0.18\n",
      "El valor de MSE para la columna doorsMap es: 0.17\n",
      "El valor de MSE para la columna personsMap es: 0.22\n",
      "El valor de MSE para la columna lug_bootMap es: 0.09\n",
      "El valor de MSE para la columna safetyMap es: 0.09\n"
     ]
    }
   ],
   "source": [
    "for col in cols:\n",
    "    mse= mean_squared_error(carDtMap[col],carDtMapRandomKnn10[col])\n",
    "    print(\"El valor de MSE para la columna \" + col + \" es: \" + \"%.2f\" % mse) "
   ]
  },
  {
   "cell_type": "markdown",
   "id": "d9079aba",
   "metadata": {},
   "source": [
    "**7) Luego de hacer la imputación en los numerales 3 y 4, se tienen 3 datasets con imputaciones diferentes:\n",
    "DSImpStats, DSImpK3, DSImpK10. Para cada uno encuentre el respectivo MSE y con base en ese valor\n",
    "determine cual de los 3 datasets imputados usted elige para seguir con el proceso. La elección debe\n",
    "ser justificada.**"
   ]
  },
  {
   "cell_type": "markdown",
   "id": "32371b57",
   "metadata": {},
   "source": [
    "- El ultimo set de MSE, podemos observar que no solo el valor de \"buyingMap\" bajo de una manera considerable, sino que tambien ninguno de los deas atributos supera el 23% de error, y en general esta mas balceado.\n",
    "- Con estos valores, tenemos 3 opciones para elegir, personalemente, tengo 2 que me interesan bastante:\n",
    "    - El dataset de valores estadisticos, dado que por lo que se puede observar es el que para 4 de 6 atributos tiene el menor porcentage de error-\n",
    "    - El dataset de Knn con 10 vecinos, dado que aunque sus valores estan por los 20%, es que mas balanceado parece estar, no hay un atributo que sea muy alto.\n",
    "- Considero que el mejor dataset para avanzar el analisis, es el dataset Knn con 10 vecinos."
   ]
  },
  {
   "cell_type": "code",
   "execution_count": null,
   "id": "c7a01708",
   "metadata": {},
   "outputs": [],
   "source": []
  }
 ],
 "metadata": {
  "kernelspec": {
   "display_name": "Python 3 (ipykernel)",
   "language": "python",
   "name": "python3"
  },
  "language_info": {
   "codemirror_mode": {
    "name": "ipython",
    "version": 3
   },
   "file_extension": ".py",
   "mimetype": "text/x-python",
   "name": "python",
   "nbconvert_exporter": "python",
   "pygments_lexer": "ipython3",
   "version": "3.9.7"
  }
 },
 "nbformat": 4,
 "nbformat_minor": 5
}
