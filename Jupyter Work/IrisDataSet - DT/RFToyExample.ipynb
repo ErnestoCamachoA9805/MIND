{
 "cells": [
  {
   "cell_type": "markdown",
   "metadata": {},
   "source": [
    "# Toy example of RF"
   ]
  },
  {
   "cell_type": "code",
   "execution_count": 1,
   "metadata": {},
   "outputs": [],
   "source": [
    "#Import libraries\n",
    "import numpy as np\n",
    "from sklearn.ensemble import RandomForestClassifier"
   ]
  },
  {
   "cell_type": "markdown",
   "metadata": {},
   "source": [
    "#A simple dataset that contains scores for different courses for some students"
   ]
  },
  {
   "cell_type": "code",
   "execution_count": 2,
   "metadata": {},
   "outputs": [],
   "source": [
    "#scores of Math, Arts and History\n",
    "scores = np.array([\n",
    "    [4.5, 2.5, 3, \"computer\"],\n",
    "    [3.5, 1.5, 2.5, \"computer\"],\n",
    "    [0.5, 5, 3.8, \"literature\"],\n",
    "    [0.3, 4, 1.2, \"literature\"],\n",
    "    [1, 3.7, 4.5, \"socials\"],\n",
    "    [1.1, 2.1, 4.8, \"socials\"],\n",
    "    [4, 4, 4, \"computer\"],\n",
    "    [0.1, 1.1, 4.8, \"socials\"]])"
   ]
  },
  {
   "cell_type": "code",
   "execution_count": 3,
   "metadata": {},
   "outputs": [],
   "source": [
    "#split data set without class and target variable\n",
    "X = scores[:,:-1]\n",
    "y = scores[:,-1]"
   ]
  },
  {
   "cell_type": "code",
   "execution_count": 4,
   "metadata": {},
   "outputs": [],
   "source": [
    "#Create a RF model using features and target variables with 10 trees\n",
    "Forest = RandomForestClassifier(n_estimators=10).fit(X, y)"
   ]
  },
  {
   "cell_type": "code",
   "execution_count": 5,
   "metadata": {},
   "outputs": [
    {
     "name": "stdout",
     "output_type": "stream",
     "text": [
      "['computer' 'socials' 'socials']\n"
     ]
    }
   ],
   "source": [
    "#Predict new values based on model fitted\n",
    "newStud1 = [4, 3.8, 2.8]\n",
    "newStud2 = [1, 3.9, 4.2]\n",
    "newStud3 = [1, 2.4, 3.8]\n",
    "all = [newStud1,newStud2,newStud3]\n",
    "students = Forest.predict(all)\n",
    "\n",
    "print(students)"
   ]
  }
 ],
 "metadata": {
  "kernelspec": {
   "display_name": "Python 3 (ipykernel)",
   "language": "python",
   "name": "python3"
  },
  "language_info": {
   "codemirror_mode": {
    "name": "ipython",
    "version": 3
   },
   "file_extension": ".py",
   "mimetype": "text/x-python",
   "name": "python",
   "nbconvert_exporter": "python",
   "pygments_lexer": "ipython3",
   "version": "3.9.7"
  }
 },
 "nbformat": 4,
 "nbformat_minor": 4
}
